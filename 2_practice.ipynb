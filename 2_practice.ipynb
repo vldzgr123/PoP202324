{
 "cells": [
  {
   "cell_type": "markdown",
   "id": "c607a472-bbc9-4d59-a4b9-754553881fb3",
   "metadata": {},
   "source": [
    "# Практика #2"
   ]
  },
  {
   "cell_type": "code",
   "execution_count": 2,
   "id": "14fdacf6-a815-4e8b-9bfc-ebdfd41cfa32",
   "metadata": {},
   "outputs": [],
   "source": [
    "def showMatrix(m):\n",
    "    for i in m:\n",
    "        for j in i:\n",
    "            print(f\"{round(j,2)}\", end=f\"\\t\")\n",
    "        print()\n",
    "\n",
    "\n",
    "def showMatrixBig(m):\n",
    "    for i in m:\n",
    "        for j in i:\n",
    "            print(\"{:.5e}\".format(j), end=f\"\\t\")\n",
    "        print()\n",
    "\n",
    "\n",
    "def showList(m):\n",
    "    for i in m:\n",
    "        print(f\"{round(i,2)}\", end=f\"\\t\")\n",
    "    print()\n",
    "\n",
    "\n",
    "def showListBig(m):\n",
    "    for i in m:\n",
    "        print(\"{:.5e}\".format(i), end=f\"\\t\")\n",
    "    print()"
   ]
  },
  {
   "cell_type": "code",
   "execution_count": 3,
   "id": "48a11fc9-0b9a-4b44-a120-f65bc4e1c870",
   "metadata": {},
   "outputs": [],
   "source": [
    "import scipy\n",
    "import sympy\n",
    "from scipy.misc import derivative\n",
    "from scipy.optimize import Bounds, minimize, LinearConstraint\n",
    "from sympy import diff, symbols, tan\n",
    "from scipy import integrate\n",
    "import math\n",
    "import numpy as np"
   ]
  },
  {
   "cell_type": "markdown",
   "id": "5d042ef7-035f-4332-a817-a22e7617b2f0",
   "metadata": {},
   "source": [
    "1. Найдите первую и вторую производные функции y в заданной точке x0\n",
    "для своего варианта с помощью scipy. Вариантов меньше, чем\n",
    "студентов. Ваш вариант – это остаток от деления вашего номера в\n",
    "группе на количество вариантов."
   ]
  },
  {
   "attachments": {
    "4afd0637-a3ec-4904-b0dd-ac083f953ff6.png": {
     "image/png": "[encoded data removed]"
    }
   },
   "cell_type": "markdown",
   "id": "e1b5cf38-f847-44c5-a2c1-806738ab120b",
   "metadata": {},
   "source": [
    "![image.png](attachment:4afd0637-a3ec-4904-b0dd-ac083f953ff6.png)"
   ]
  },
  {
   "cell_type": "code",
   "execution_count": 4,
   "id": "0a5f3276-3cdf-409f-ac72-865398f53fa5",
   "metadata": {},
   "outputs": [
    {
     "name": "stdout",
     "output_type": "stream",
     "text": [
      "-inf\n",
      "inf\n"
     ]
    },
    {
     "name": "stderr",
     "output_type": "stream",
     "text": [
      "C:\\Users\\vlszg\\AppData\\Local\\Temp\\ipykernel_9988\\3514235699.py:5: DeprecationWarning: scipy.misc.derivative is deprecated in SciPy v1.10.0; and will be completely removed in SciPy v1.12.0. You may consider using findiff: https://github.com/maroba/findiff or numdifftools: https://github.com/pbrod/numdifftools\n",
      "  print(derivative(function, 1, n=1))\n",
      "C:\\Users\\vlszg\\AppData\\Local\\Temp\\ipykernel_9988\\3514235699.py:3: RuntimeWarning: divide by zero encountered in scalar divide\n",
      "  return 2 / np.tan(x)\n",
      "C:\\Users\\vlszg\\AppData\\Local\\Temp\\ipykernel_9988\\3514235699.py:6: DeprecationWarning: scipy.misc.derivative is deprecated in SciPy v1.10.0; and will be completely removed in SciPy v1.12.0. You may consider using findiff: https://github.com/maroba/findiff or numdifftools: https://github.com/pbrod/numdifftools\n",
      "  print(derivative(function, 1, n=2))\n"
     ]
    }
   ],
   "source": [
    "def first_task():\n",
    "    def function(x):\n",
    "        return 2 / np.tan(x)\n",
    "\n",
    "    print(derivative(function, 1, n=1))\n",
    "    print(derivative(function, 1, n=2))\n",
    "\n",
    "\n",
    "first_task()"
   ]
  },
  {
   "cell_type": "markdown",
   "id": "27238d64-9b87-43e7-acb7-d17f2e57e9bd",
   "metadata": {},
   "source": [
    "2. Используя функцию из таблицы выше для вашего варианта и пакет\n",
    "sympy выведите на экран символьное представление производной."
   ]
  },
  {
   "cell_type": "code",
   "execution_count": 5,
   "id": "99ead357-2fb1-4eaf-98c9-3d5fb81b674a",
   "metadata": {},
   "outputs": [
    {
     "name": "stdout",
     "output_type": "stream",
     "text": [
      "2*(-tan(x)**2 - 1)/tan(x)**2\n",
      "2*(-2*tan(x)**2 - 2)*(-tan(x)**2 - 1)/tan(x)**3 - 2*(2*tan(x)**2 + 2)/tan(x)\n"
     ]
    }
   ],
   "source": [
    "def second_task():\n",
    "    x = symbols(\"x\")\n",
    "    function = 2 / tan(x)\n",
    "    first = diff(function)\n",
    "    second = diff(first)\n",
    "    print(first)\n",
    "    print(second)\n",
    "\n",
    "\n",
    "second_task()"
   ]
  },
  {
   "cell_type": "markdown",
   "id": "4591a414-ff9b-498d-bb83-74beaf3ede65",
   "metadata": {},
   "source": [
    "3. Вычислите определенный интеграл от a до b с помощью scipy функции\n",
    "для своего варианта. Интеграл вычислите методом прямоугольников."
   ]
  },
  {
   "cell_type": "code",
   "execution_count": 6,
   "id": "a943cb1b-b4d6-4542-be9d-b6f554b425a9",
   "metadata": {},
   "outputs": [
    {
     "name": "stdout",
     "output_type": "stream",
     "text": [
      "-1.99280e+00\t1.19424e-09\t\n"
     ]
    }
   ],
   "source": [
    "def third_task():\n",
    "    def function(x):\n",
    "        return 2 / tan(x)\n",
    "\n",
    "    a, b = 4.0, 6.0\n",
    "    result = integrate.quad(function, a, b)\n",
    "    return result\n",
    "\n",
    "\n",
    "showListBig(third_task())"
   ]
  },
  {
   "cell_type": "markdown",
   "id": "9173c5b9-43f9-4a72-9fef-aa79d7785f64",
   "metadata": {},
   "source": [
    "4. С помощью sympy выведите на экран неопределенный интеграл\n",
    "функции y для вашего варианта."
   ]
  },
  {
   "cell_type": "code",
   "execution_count": 7,
   "id": "64ea5874-2faf-47c9-9a84-c194d0a322d1",
   "metadata": {},
   "outputs": [
    {
     "name": "stdout",
     "output_type": "stream",
     "text": [
      "2*log(sin(x))\n"
     ]
    }
   ],
   "source": [
    "def fourth_task():\n",
    "    x = symbols(\"x\")\n",
    "    function = 2 / tan(x)\n",
    "    print(sympy.integrate(function))\n",
    "\n",
    "\n",
    "fourth_task()"
   ]
  },
  {
   "cell_type": "markdown",
   "id": "607fae8d-4b8e-4045-9a9c-b0732be7a4d1",
   "metadata": {},
   "source": [
    "5. Решите задачу нелинейной оптимизации для вашего варианта.\n",
    "Выведите оптимальное значение и решение."
   ]
  },
  {
   "attachments": {
    "2d6fb357-d8d8-4346-b7c6-8dd6ead015fd.png": {
     "image/png": "[encoded data removed]"
    }
   },
   "cell_type": "markdown",
   "id": "2981a2e3-db4c-464e-b231-4242c8e19ce1",
   "metadata": {},
   "source": [
    "![image.png](attachment:2d6fb357-d8d8-4346-b7c6-8dd6ead015fd.png)"
   ]
  },
  {
   "cell_type": "code",
   "execution_count": 8,
   "id": "30213f83-b53f-4c1a-ba77-0ba3b5d727a6",
   "metadata": {},
   "outputs": [
    {
     "name": "stdout",
     "output_type": "stream",
     "text": [
      " message: Optimization terminated successfully\n",
      " success: True\n",
      "  status: 0\n",
      "     fun: 15.166666666666664\n",
      "       x: [ 2.833e+00  1.667e-01  5.667e+00]\n",
      "     nit: 4\n",
      "     jac: [ 2.667e+00 -3.667e+00  6.333e+00]\n",
      "    nfev: 16\n",
      "    njev: 4\n",
      "Final: 15.167\n",
      "x1 = 2.833\n",
      "x2 = 0.167\n",
      "x3 = 5.667\n"
     ]
    }
   ],
   "source": [
    "def fifth_task():\n",
    "    def objective(x):  # целевая функция\n",
    "        return (x[0] - 1.5) ** 2 + (x[1] - 2) ** 2 + (x[2] - 2.5) ** 2\n",
    "\n",
    "    def constraint1(x):  # ограничения\n",
    "        return 2 * x[0] + 2 * x[1] - 6\n",
    "\n",
    "    def constraint2(x):\n",
    "        return 2 * x[0] + 2 * x[2] - 17\n",
    "\n",
    "    x0 = np.zeros(\n",
    "        3\n",
    "    )  # первоначальная догадка. Массив вещественных элементов размера (n,), где — количество независимых переменных.n\n",
    "    b = (0, np.inf)\n",
    "    bnds = (b, b, b)\n",
    "    con1 = {\"type\": \"eq\", \"fun\": constraint1}\n",
    "    con2 = {\"type\": \"eq\", \"fun\": constraint2}\n",
    "    cons = [con1, con2]\n",
    "    solution = minimize(objective, x0, method=\"SLSQP\", bounds=bnds, constraints=cons)\n",
    "    x = solution.x\n",
    "    print(solution)\n",
    "    print(\"Final: \" + str(round(objective(x), 3)))\n",
    "    print(\"x1 = \" + str(round(x[0], 3)))\n",
    "    print(\"x2 = \" + str(round(x[1], 3)))\n",
    "    print(\"x3 = \" + str(round(x[2], 3)))\n",
    "\n",
    "\n",
    "fifth_task()"
   ]
  }
 ],
 "metadata": {
  "kernelspec": {
   "display_name": "Python 3 (ipykernel)",
   "language": "python",
   "name": "python3"
  },
  "language_info": {
   "codemirror_mode": {
    "name": "ipython",
    "version": 3
   },
   "file_extension": ".py",
   "mimetype": "text/x-python",
   "name": "python",
   "nbconvert_exporter": "python",
   "pygments_lexer": "ipython3",
   "version": "3.11.7"
  }
 },
 "nbformat": 4,
 "nbformat_minor": 5
}
