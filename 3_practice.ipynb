{
 "cells": [
  {
   "cell_type": "markdown",
   "id": "52966dda-9f09-470a-88cc-352ad9f4729c",
   "metadata": {},
   "source": [
    "# Практика №3"
   ]
  },
  {
   "cell_type": "code",
   "execution_count": 2,
   "id": "2983ca5d-0bc6-4efe-a0b3-bf37d3b28e83",
   "metadata": {},
   "outputs": [],
   "source": [
    "def showMatrix(m):\n",
    "    for i in m:\n",
    "        for j in i:\n",
    "            print(f\"{round(j,2)}\", end=f\"\\t\")\n",
    "        print()\n",
    "\n",
    "\n",
    "def showMatrixBig(m):\n",
    "    for i in m:\n",
    "        for j in i:\n",
    "            print(\"{:.5e}\".format(j), end=f\"\\t\")\n",
    "        print()\n",
    "\n",
    "\n",
    "def showList(m):\n",
    "    for i in m:\n",
    "        print(f\"{round(i,2)}\", end=f\"\\t\")\n",
    "    print()\n",
    "\n",
    "\n",
    "def showListBig(m):\n",
    "    for i in m:\n",
    "        print(\"{:.5e}\".format(i), end=f\"\\t\")\n",
    "    print()"
   ]
  },
  {
   "cell_type": "code",
   "execution_count": 4,
   "id": "07b761e2-359d-4b9c-b95f-4775697f9c69",
   "metadata": {},
   "outputs": [],
   "source": [
    "import numpy as np\n",
    "from scipy import linalg, stats"
   ]
  },
  {
   "cell_type": "markdown",
   "id": "e1ecf734-4c16-4f8d-8ba3-087fff0ab8d4",
   "metadata": {},
   "source": [
    "## 1. Взять свою матрицу из 1.10"
   ]
  },
  {
   "cell_type": "code",
   "execution_count": 5,
   "id": "42e646e3-84de-4773-aaeb-ee7c8fb638da",
   "metadata": {},
   "outputs": [
    {
     "name": "stdout",
     "output_type": "stream",
     "text": [
      "7.0\t4.0\t-3.0\t3.0\t\n",
      "2.0\t-16.0\t-9.0\t0.0\t\n",
      "8.0\t-5.0\t-3.0\t-4.0\t\n",
      "2.0\t0.0\t-1.7\t-1.7\t\n"
     ]
    }
   ],
   "source": [
    "def first_task():\n",
    "    M = np.array(\n",
    "        [\n",
    "            [7.0, 4.0, -3.0, 3.0],\n",
    "            [2.0, -16.0, -9.0, 0.0],\n",
    "            [8.0, -5.0, -3.0, -4.0],\n",
    "            [2.0, 0.0, -1.7, -1.7],\n",
    "        ]\n",
    "    )\n",
    "    return M\n",
    "\n",
    "\n",
    "M = first_task()\n",
    "showMatrix(M)"
   ]
  },
  {
   "cell_type": "markdown",
   "id": "1900043a-795b-432b-b54e-ab2f15d75dbd",
   "metadata": {},
   "source": [
    "## 2. Получить LU-разложение (LUP-разложение) (факторизацию матрицы)"
   ]
  },
  {
   "cell_type": "markdown",
   "id": "7649d972",
   "metadata": {},
   "source": [
    "LUP-разложение (LUP-декомпозиция) — представление данной матрицы A\n",
    " в виде произведения PA=LU\n",
    " где матрица L\n",
    " является нижнетреугольной с единицами на главной диагонали, U\n",
    " — верхнетреугольная общего вида, а P\n",
    " — т. н. матрица перестановок, получаемая из единичной матрицы путём перестановки строк или столбцов."
   ]
  },
  {
   "cell_type": "markdown",
   "id": "c6591671",
   "metadata": {},
   "source": [
    "Нахождение матрицы P:"
   ]
  },
  {
   "cell_type": "markdown",
   "id": "4ef62ddd",
   "metadata": {},
   "source": [
    "На каждом i-м шаге сначала производится поиск опорного (ведущего) элемента — максимального по модулю элемента среди элементов i-го столбца, находящихся не выше i-й строки, после чего строка с опорным элементом меняется местами с i-й строкой."
   ]
  },
  {
   "cell_type": "code",
   "execution_count": 6,
   "id": "cb7fd30d-1898-40c1-bfc4-4ccad35455e2",
   "metadata": {},
   "outputs": [
    {
     "name": "stdout",
     "output_type": "stream",
     "text": [
      "L:\n",
      "1.0\t0.0\t0.0\t0.0\t\n",
      "0.25\t1.0\t0.0\t0.0\t\n",
      "0.88\t-0.57\t1.0\t0.0\t\n",
      "0.25\t-0.08\t0.33\t1.0\t\n",
      "U:\n",
      "8.0\t-5.0\t-3.0\t-4.0\t\n",
      "0.0\t-14.75\t-8.25\t1.0\t\n",
      "0.0\t0.0\t-5.06\t7.07\t\n",
      "0.0\t0.0\t0.0\t-2.92\t\n",
      "P:\n",
      "0.0\t0.0\t1.0\t0.0\t\n",
      "0.0\t1.0\t0.0\t0.0\t\n",
      "1.0\t0.0\t0.0\t0.0\t\n",
      "0.0\t0.0\t0.0\t1.0\t\n"
     ]
    }
   ],
   "source": [
    "def second_task(M):\n",
    "    P, L, U = linalg.lu(M)\n",
    "    print('L:')\n",
    "    showMatrix(L)\n",
    "    print('U:')\n",
    "    showMatrix(U)\n",
    "    print('P:')\n",
    "    showMatrix(P)\n",
    "    return L, U, P\n",
    "\n",
    "L, U, P = second_task(M)"
   ]
  },
  {
   "cell_type": "markdown",
   "id": "aa90ed7f-99d6-4b72-b652-892f4fae23ed",
   "metadata": {},
   "source": [
    "## 3. Найти определитель (произведение элементов на главной диагонали L и U, определителя обратной матрицы к P)\n"
   ]
  },
  {
   "cell_type": "code",
   "execution_count": 15,
   "id": "bda3b619-f499-480a-92b3-242cb65a47a9",
   "metadata": {},
   "outputs": [
    {
     "name": "stdout",
     "output_type": "stream",
     "text": [
      "diagL:\n",
      "1.00000e+00\t\n",
      "\n",
      "diagU:\n",
      "-1.74270e+03\t\n",
      "\n",
      "detP-1:\n",
      "-1.0\n",
      "\n",
      "result:\n",
      "1.74270e+03\t\n"
     ]
    }
   ],
   "source": [
    "def third_task():\n",
    "    print(\"diagL:\")\n",
    "    diagL = L.diagonal().prod()\n",
    "    showListBig([diagL])\n",
    "    print()\n",
    "    print(\"diagU:\")\n",
    "    diagU = U.diagonal().prod()\n",
    "    showListBig([diagU])\n",
    "    print()\n",
    "    print(\"detP-1:\")\n",
    "    P_inv = np.linalg.inv(P)\n",
    "    detP_inv = np.linalg.det(P_inv)\n",
    "    print(detP_inv)\n",
    "    print()\n",
    "    print(\"result:\")\n",
    "    return diagL * diagU * detP_inv\n",
    "\n",
    "showListBig([third_task()])"
   ]
  },
  {
   "cell_type": "markdown",
   "id": "a6016661-d4ff-43d1-aea8-103545eb8a45",
   "metadata": {},
   "source": [
    "## 4. Сгенерировать две выборки (вектор целых чисел из 100 элементов) в одинаковых интервалах с разными распределениями (равномерное и нормальное)"
   ]
  },
  {
   "cell_type": "code",
   "execution_count": 24,
   "id": "a1841e8d-137f-4026-9a9a-2f1728d85019",
   "metadata": {},
   "outputs": [
    {
     "name": "stdout",
     "output_type": "stream",
     "text": [
      "Нормальное:\n",
      "5.09193e-01\t-4.66961e-01\t2.33879e-01\t5.32789e-01\t5.10604e-01\t-3.77526e-01\t1.02055e+00\t6.06238e-01\t-4.18770e-01\t-4.59607e-03\t9.07989e-01\t-2.13468e-01\t6.82794e-02\t1.22501e+00\t1.84930e+00\t-1.31922e+00\t1.06552e+00\t7.09385e-02\t-9.77174e-01\t-2.00550e-01\t1.29736e+00\t-1.23951e-01\t9.62044e-01\t2.49783e+00\t8.77486e-01\t2.27084e+00\t1.31852e+00\t-1.50213e+00\t-5.17338e-01\t8.54057e-01\t2.25723e-01\t-1.68341e+00\t-1.38281e-01\t9.86697e-01\t8.23173e-01\t1.34759e+00\t-2.70034e-01\t4.24946e-02\t8.17850e-01\t1.01091e+00\t1.23614e+00\t1.52218e-01\t1.48962e+00\t4.69224e-02\t-4.75165e-01\t-6.82396e-01\t6.68524e-01\t1.22325e+00\t-9.10562e-01\t-1.62880e+00\t-1.76131e+00\t-1.16024e+00\t1.51923e-01\t-1.43588e+00\t-2.64775e-01\t6.29340e-01\t-4.61185e-01\t1.70682e-01\t-8.13263e-01\t1.29589e+00\t8.19900e-01\t-8.45665e-01\t-1.46718e+00\t2.01962e+00\t9.87505e-01\t-1.68840e+00\t9.97577e-02\t5.99505e-01\t-2.01933e-01\t4.62192e-01\t3.16668e-01\t-7.07271e-01\t6.16701e-01\t-8.11414e-01\t5.01055e-01\t-5.54766e-01\t6.95600e-01\t1.40505e+00\t4.30495e-01\t6.28111e-01\t-1.08468e+00\t-8.16387e-01\t1.90047e+00\t-1.88148e+00\t-5.58227e-01\t-1.47843e-01\t-1.79164e-01\t9.77272e-01\t-1.01901e-01\t2.22939e-01\t-1.18749e+00\t4.01243e-01\t-5.51591e-01\t-7.15163e-01\t-8.50543e-02\t4.28583e-01\t-1.13233e+00\t-4.91671e-01\t5.35781e-01\t-3.04569e-01\t\n",
      "Равномерное:\n",
      "1.35249e-01\t2.45877e-01\t4.90031e-01\t2.51205e-01\t3.61901e-01\t6.99087e-01\t8.93253e-01\t7.67430e-01\t7.44251e-01\t6.21986e-01\t7.55604e-01\t1.01172e-02\t5.69745e-01\t5.63254e-01\t8.76995e-01\t1.13029e-01\t9.81612e-01\t5.92828e-01\t5.55176e-01\t7.28539e-01\t9.75714e-01\t3.56552e-01\t5.60116e-01\t1.47419e-01\t5.64589e-01\t5.41195e-01\t6.96888e-01\t6.34563e-01\t9.64307e-01\t1.75431e-01\t7.09155e-01\t7.39330e-02\t9.92948e-01\t1.46155e-01\t8.42110e-01\t5.89733e-01\t1.56995e-01\t5.55178e-01\t4.28736e-01\t5.56075e-01\t3.18253e-01\t1.32556e-01\t8.63075e-01\t9.89482e-01\t5.87125e-01\t5.17550e-01\t4.17891e-01\t7.25975e-01\t7.85368e-01\t6.10640e-01\t1.10861e-01\t6.77983e-02\t2.66806e-01\t5.69644e-01\t5.48302e-01\t9.46251e-02\t2.15271e-01\t8.66521e-02\t8.01629e-01\t5.77575e-01\t7.84969e-01\t1.98574e-01\t5.45654e-02\t8.07245e-03\t8.37763e-01\t5.47217e-01\t9.18612e-01\t1.79803e-01\t8.26789e-02\t6.82108e-02\t7.26553e-01\t9.44371e-02\t1.16327e-03\t9.54079e-01\t7.17902e-01\t2.18697e-01\t4.50918e-01\t7.30011e-01\t9.34300e-01\t9.80667e-02\t5.21397e-01\t3.23850e-01\t1.29003e-01\t3.77882e-01\t6.26790e-01\t2.66466e-01\t5.79067e-01\t1.17059e-01\t8.33256e-01\t5.42706e-01\t3.97939e-01\t1.25861e-01\t8.24684e-01\t7.15886e-01\t9.11678e-01\t4.50779e-01\t9.82977e-01\t1.64625e-01\t5.33524e-04\t6.44410e-01\t\n"
     ]
    }
   ],
   "source": [
    "def normal():\n",
    "    return stats.norm.rvs(size=100)\n",
    "\n",
    "def uniform():\n",
    "    return stats.uniform.rvs(size=100)\n",
    "\n",
    "def fourth_task():\n",
    "    print(\"Нормальное:\")\n",
    "    showListBig(normal())\n",
    "    print(\"Равномерное:\")\n",
    "    showListBig(uniform())\n",
    "\n",
    "fourth_task()"
   ]
  },
  {
   "cell_type": "markdown",
   "id": "039713f8-05e5-4daf-aecd-288df491a233",
   "metadata": {},
   "source": [
    "## 5. Вычислить для каждой из выборок:"
   ]
  },
  {
   "cell_type": "markdown",
   "id": "87279638",
   "metadata": {},
   "source": [
    "a. Среднее;\n",
    "\n",
    "b. Моду;\n",
    "\n",
    "c. Медиану;\n",
    "\n",
    "d. Минимум;\n",
    "\n",
    "e. Максимум;\n",
    "\n",
    "f. Стандартное отклонение."
   ]
  },
  {
   "cell_type": "code",
   "execution_count": 35,
   "id": "a30001df-b35e-42ce-bb10-624813283c7b",
   "metadata": {},
   "outputs": [
    {
     "name": "stdout",
     "output_type": "stream",
     "text": [
      "mean:\n",
      "Нормальная:-0.012\n",
      "Равномерная:0.537\n",
      "\n",
      "mode:\n",
      "Нормальная:ModeResult(mode=array([-2.5262289]), count=array([1], dtype=int64))\n",
      "Равномерная:ModeResult(mode=array([0.00498025]), count=array([1], dtype=int64))\n",
      "\n",
      "median:\n",
      "Нормальная:0.003\n",
      "Равномерная:0.533\n",
      "\n",
      "min:\n",
      "Нормальная:-2.526\n",
      "Равномерная:0.005\n",
      "\n",
      "max:\n",
      "Нормальная:2.542\n",
      "Равномерная:0.996\n",
      "\n",
      "std:\n",
      "Нормальная:0.98\n",
      "Равномерная:0.282\n"
     ]
    }
   ],
   "source": [
    "def fifth_task():\n",
    "    norm = normal()\n",
    "    unif = uniform()\n",
    "    print(\"mean:\")\n",
    "    print(\n",
    "        f\"Нормальная:{round(np.mean(norm),3)}\",\n",
    "        f\"Равномерная:{round(np.mean(unif),3)}\",\n",
    "        sep=f\"\\n\",\n",
    "    )\n",
    "    print()\n",
    "    print(\"mode:\")\n",
    "    print(\n",
    "        f\"Нормальная:{stats.mode(norm, keepdims=True)}\",\n",
    "        f\"Равномерная:{stats.mode(unif, keepdims=True)}\",\n",
    "        sep=f\"\\n\",\n",
    "    )\n",
    "    print()\n",
    "    print(\"median:\")\n",
    "    print(\n",
    "        f\"Нормальная:{round(np.median(norm),3)}\",\n",
    "        f\"Равномерная:{round(np.median(unif),3)}\",\n",
    "        sep=f\"\\n\",\n",
    "    )\n",
    "    print()\n",
    "    print(\"min:\")\n",
    "    print(\n",
    "        f\"Нормальная:{round(np.min(norm),3)}\",\n",
    "        f\"Равномерная:{round(np.min(unif),3)}\",\n",
    "        sep=f\"\\n\",\n",
    "    )\n",
    "    print()\n",
    "    print(\"max:\")\n",
    "    print(\n",
    "        f\"Нормальная:{round(np.max(norm),3)}\",\n",
    "        f\"Равномерная:{round(np.max(unif),3)}\",\n",
    "        sep=f\"\\n\",\n",
    "    )\n",
    "    print()\n",
    "    print(\"std:\")\n",
    "    print(\n",
    "        f\"Нормальная:{round(np.std(norm),3)}\",\n",
    "        f\"Равномерная:{round(np.std(unif),3)}\",\n",
    "        sep=f\"\\n\",\n",
    "    )\n",
    "\n",
    "\n",
    "fifth_task()"
   ]
  },
  {
   "cell_type": "markdown",
   "id": "45b92936-d44d-4e2f-bd25-089ceaa8f0ed",
   "metadata": {},
   "source": [
    "## 6. С помощью метода хи-квадрат (scipy.stats.chisquare) вычислить значение p-value для нулевой гипотезы: “Распределение выборки не равномерное\""
   ]
  },
  {
   "cell_type": "markdown",
   "id": "182a0312",
   "metadata": {},
   "source": [
    "Хи-квадрат (χ2) - это статистический критерий, который используется для проверки независимости или ассоциации между двумя категориальными переменными. Он позволяет определить, насколько наблюдаемые данные отличаются от ожидаемых в случае, если никакой связи между переменными нет.\n",
    "\n",
    "Нулевая гипотеза - это утверждение о том, что никакой связи между переменными нет. В случае с хи-квадрат тестом, нулевая гипотеза предполагает, что наблюдаемые и ожидаемые значения не отличаются друг от друга и различия между ними являются случайными.\n",
    "\n",
    "p-value (p-значение) - это вероятность получить такие же или более экстремальные результаты, если бы нулевая гипотеза была верна. Чем меньше p-value, тем больше оснований отвергнуть нулевую гипотезу и считать, что между переменными есть связь. Обычно, если p-value меньше 0.05 (5%), то нулевая гипотеза отвергается и можно сделать вывод о наличии связи между переменными.\n",
    "\n",
    "Метод scipy.stats.chisquare возвращает два значения: значение хи-квадрат статистики и p-значение. Хи-квадрат статистика представляет собой численное значение, которое показывает насколько сильно наблюдаемые данные отличаются от ожидаемых. Чем больше значение хи-квадрат, тем больше различий между наблюдаемыми и ожидаемыми значениями.\n",
    "\n",
    "P-значение представляет собой вероятность получить такие же или более экстремальные результаты, если бы нулевая гипотеза была верна. Чем меньше p-value, тем больше оснований отвергнуть нулевую гипотезу и считать, что между переменными есть связь."
   ]
  },
  {
   "cell_type": "code",
   "execution_count": 42,
   "id": "1a998f47-05ad-4111-87f5-b7e6bd7b3526",
   "metadata": {},
   "outputs": [
    {
     "name": "stdout",
     "output_type": "stream",
     "text": [
      "Power_divergenceResult(statistic=-1304.265158329914, pvalue=1.0)\n",
      "Power_divergenceResult(statistic=16.17797245219948, pvalue=1.0)\n"
     ]
    }
   ],
   "source": [
    "def sixth_task():\n",
    "    norm = normal()\n",
    "    unif = uniform()\n",
    "    print(stats.chisquare(norm))\n",
    "    print(stats.chisquare(unif))\n",
    "sixth_task()"
   ]
  }
 ],
 "metadata": {
  "kernelspec": {
   "display_name": "Python 3 (ipykernel)",
   "language": "python",
   "name": "python3"
  },
  "language_info": {
   "codemirror_mode": {
    "name": "ipython",
    "version": 3
   },
   "file_extension": ".py",
   "mimetype": "text/x-python",
   "name": "python",
   "nbconvert_exporter": "python",
   "pygments_lexer": "ipython3",
   "version": "3.11.7"
  }
 },
 "nbformat": 4,
 "nbformat_minor": 5
}
