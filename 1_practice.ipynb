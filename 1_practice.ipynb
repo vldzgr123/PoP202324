{
 "cells": [
  {
   "cell_type": "markdown",
   "id": "178c9759-7fa6-4d6e-965e-6ce3507915ae",
   "metadata": {},
   "source": [
    "# Практика №1"
   ]
  },
  {
   "cell_type": "code",
   "execution_count": 13,
   "id": "207eafdb-a83b-485b-834f-f3383754ada3",
   "metadata": {},
   "outputs": [],
   "source": [
    "def showMatrix(m):\n",
    "    for i in m:\n",
    "        for j in i:\n",
    "            print(f'{round(j,2)}',end=f'\\t')\n",
    "        print()\n",
    "def showMatrixBig(m):\n",
    "    for i in m:\n",
    "        for j in i:\n",
    "            print('{:.5e}'.format(j), end=f'\\t')\n",
    "        print()\n",
    "def showList(m):\n",
    "    for i in m:\n",
    "        print(f'{round(i,2)}',end=f'\\t')\n",
    "    print()\n",
    "def showListBig(m):\n",
    "    for i in m:\n",
    "        print('{:.5e}'.format(i), end=f'\\t')\n",
    "    print()"
   ]
  },
  {
   "cell_type": "code",
   "execution_count": 14,
   "id": "91be7aec-8248-4132-aa85-76b1e7b6d890",
   "metadata": {},
   "outputs": [],
   "source": [
    "import numpy as np"
   ]
  },
  {
   "cell_type": "markdown",
   "id": "de751719-4da8-4666-a88c-85164d64d608",
   "metadata": {},
   "source": [
    "1. Создайте numpy array my_array, элементами которого будут числа из\n",
    "интервала [10, 70) с шагом 2. Выведите на экран результат."
   ]
  },
  {
   "cell_type": "code",
   "execution_count": 15,
   "id": "df5f85ee-53e3-47de-925e-b836b669a47e",
   "metadata": {},
   "outputs": [
    {
     "name": "stdout",
     "output_type": "stream",
     "text": [
      "10\t12\t14\t16\t18\t20\t22\t24\t26\t28\t30\t32\t34\t36\t38\t40\t42\t44\t46\t48\t50\t52\t54\t56\t58\t60\t62\t64\t66\t68\t\n"
     ]
    }
   ],
   "source": [
    "def first_task():\n",
    "    my_array = np.arange(10, 70, 2)\n",
    "    return my_array\n",
    "showList(first_task())\n"
   ]
  },
  {
   "cell_type": "markdown",
   "id": "6f935983-cc90-4408-bf8f-56eb5d0adc81",
   "metadata": {},
   "source": [
    "2. Преобразуйте полученный my_array в матрицу A (6x5).\n",
    "Транспонируйте матрицу A. Далее будем работать с\n",
    "транспонированной матрицей A."
   ]
  },
  {
   "cell_type": "code",
   "execution_count": 16,
   "id": "84e3f256-be18-42db-a023-75a8a2b4923f",
   "metadata": {},
   "outputs": [
    {
     "name": "stdout",
     "output_type": "stream",
     "text": [
      "10\t20\t30\t40\t50\t60\t\n",
      "12\t22\t32\t42\t52\t62\t\n",
      "14\t24\t34\t44\t54\t64\t\n",
      "16\t26\t36\t46\t56\t66\t\n",
      "18\t28\t38\t48\t58\t68\t\n"
     ]
    }
   ],
   "source": [
    "def second_task():\n",
    "    my_array = first_task()\n",
    "    return my_array.reshape(6, 5).transpose()\n",
    "showMatrix(second_task())"
   ]
  },
  {
   "cell_type": "markdown",
   "id": "8bf36f0b-0d99-4434-9dbe-0ed4846df75c",
   "metadata": {},
   "source": [
    "3. Умножьте все элементы матрицы на 2.5 и вычтете из каждого элемента\n",
    "5 (в одной строке). Выведите новую матрицу на экран.    "
   ]
  },
  {
   "cell_type": "code",
   "execution_count": 17,
   "id": "1c59a82a-ec83-487e-9409-f72e202145fd",
   "metadata": {},
   "outputs": [
    {
     "name": "stdout",
     "output_type": "stream",
     "text": [
      "20.0\t45.0\t70.0\t95.0\t120.0\t145.0\t\n",
      "30.0\t55.0\t80.0\t105.0\t130.0\t155.0\t\n",
      "35.0\t60.0\t85.0\t110.0\t135.0\t160.0\t\n",
      "40.0\t65.0\t90.0\t115.0\t140.0\t165.0\t\n",
      "45.0\t70.0\t95.0\t120.0\t145.0\t170.0\t\n"
     ]
    }
   ],
   "source": [
    "def third_task():\n",
    "    my_array = second_task() * 2.5\n",
    "    my_array[0]-=5\n",
    "    return my_array\n",
    "showMatrix(third_task())"
   ]
  },
  {
   "cell_type": "markdown",
   "id": "ab68d24a-0ca2-4b33-ac46-686d2d4a0a6a",
   "metadata": {},
   "source": [
    "4. Создайте матрицу B (6x3) заполняя каждую ячейку случайным\n",
    "действительным числом от 0 до 10. Выведите матрицу на экран."
   ]
  },
  {
   "cell_type": "code",
   "execution_count": 18,
   "id": "7e3922ba-a7a3-4568-a52c-98ae0d643652",
   "metadata": {},
   "outputs": [
    {
     "name": "stdout",
     "output_type": "stream",
     "text": [
      "8\t6\t5\t\n",
      "5\t1\t8\t\n",
      "3\t7\t2\t\n",
      "9\t9\t1\t\n",
      "3\t6\t3\t\n",
      "8\t6\t5\t\n"
     ]
    }
   ],
   "source": [
    "def fourth_task():\n",
    "    my_array = np.random.randint(0, 10, (6, 3))\n",
    "    return my_array\n",
    "showMatrix(fourth_task())"
   ]
  },
  {
   "cell_type": "markdown",
   "id": "024dee0d-972e-4c1a-af36-97a6c60bfbf6",
   "metadata": {},
   "source": [
    "5. Получите вектор a, элементами которого являются суммы по всем\n",
    "строкам матрицы A. Получите вектор b, элементами которого являются\n",
    "суммы по всем столбцам матрицы B. Выведите на экран размеры\n",
    "полученных векторов."
   ]
  },
  {
   "cell_type": "code",
   "execution_count": 19,
   "id": "efbbe429-9bca-4378-9a84-7213a8a4ab4a",
   "metadata": {},
   "outputs": [
    {
     "name": "stdout",
     "output_type": "stream",
     "text": [
      "Вектор a:\n",
      "495.0\t555.0\t585.0\t615.0\t645.0\t\n",
      "(5,)\n",
      "Вектор b:\n",
      "21\t23\t32\t\n",
      "(3,)\n"
     ]
    }
   ],
   "source": [
    "def fifth_task():\n",
    "    A=third_task()\n",
    "    B=fourth_task()\n",
    "    a=A.sum(axis=1)\n",
    "    b=B.sum(axis=0)\n",
    "    print('Вектор a:')\n",
    "    showList(a)\n",
    "    print(a.shape)\n",
    "    print('Вектор b:')\n",
    "    showList(b)\n",
    "    print(b.shape)\n",
    "fifth_task()"
   ]
  },
  {
   "cell_type": "markdown",
   "id": "458b3dee-e66d-45d0-955f-278efec84c5d",
   "metadata": {},
   "source": [
    "6. Вычислите произведение матриц A и B."
   ]
  },
  {
   "cell_type": "code",
   "execution_count": 20,
   "id": "26766449-dd5d-4f50-b0e3-e009660d067b",
   "metadata": {},
   "outputs": [
    {
     "name": "stdout",
     "output_type": "stream",
     "text": [
      "2310.0\t2350.0\t3085.0\t\n",
      "2540.0\t2650.0\t3415.0\t\n",
      "2655.0\t2800.0\t3580.0\t\n",
      "2770.0\t2950.0\t3745.0\t\n",
      "2885.0\t3100.0\t3910.0\t\n"
     ]
    }
   ],
   "source": [
    "def sixth_task():\n",
    "    A=third_task()\n",
    "    B=fourth_task()\n",
    "    return np.dot(A,B)\n",
    "showMatrix(sixth_task())"
   ]
  },
  {
   "cell_type": "markdown",
   "id": "b3c8cddb-8444-4264-9219-ce1e71ffe1e1",
   "metadata": {},
   "source": [
    "7. Удалите третий столбец из матрицы A. Добавьте три столбца из\r\n",
    "случайных чисел от 10 до 20 к матрице B. На данном шаге у вас\r\n",
    "должны получиться две квадратные матрицы A и B (5x5 и 6x6)."
   ]
  },
  {
   "cell_type": "code",
   "execution_count": 21,
   "id": "9a104d05-0c26-41f9-86bf-b5cf13bfad41",
   "metadata": {},
   "outputs": [
    {
     "name": "stdout",
     "output_type": "stream",
     "text": [
      "20.0\t45.0\t95.0\t120.0\t145.0\t\n",
      "30.0\t55.0\t105.0\t130.0\t155.0\t\n",
      "35.0\t60.0\t110.0\t135.0\t160.0\t\n",
      "40.0\t65.0\t115.0\t140.0\t165.0\t\n",
      "45.0\t70.0\t120.0\t145.0\t170.0\t\n",
      "\n",
      "1\t4\t2\t15\t17\t10\t\n",
      "4\t8\t4\t15\t12\t18\t\n",
      "6\t7\t4\t18\t19\t17\t\n",
      "2\t8\t5\t16\t19\t13\t\n",
      "0\t1\t4\t10\t10\t13\t\n",
      "1\t9\t4\t18\t10\t15\t\n"
     ]
    }
   ],
   "source": [
    "def seventh_task():\n",
    "    A = third_task()\n",
    "    B = fourth_task()\n",
    "    A = np.delete(A, 2, axis=1)\n",
    "    for i in range(3):\n",
    "        B = np.append(B, np.random.randint(10, 20, (6, 1)), axis=1)\n",
    "    showMatrix(A)\n",
    "    print()\n",
    "    showMatrix(B)\n",
    "seventh_task()"
   ]
  },
  {
   "cell_type": "markdown",
   "id": "689d64bc-9405-487f-933e-8ffc85cdcae0",
   "metadata": {},
   "source": [
    "8. Найдите определители матриц A и B. Вычислите обратные матрицы\r\n",
    "для матриц A и B. Обратите внимание на то, что определитель может\r\n",
    "быть равен нулю и тогда вычисление обратной матрицы невозможно."
   ]
  },
  {
   "cell_type": "code",
   "execution_count": 22,
   "id": "eeb58963-e2a0-4bf0-83c9-f4f08c1edd10",
   "metadata": {},
   "outputs": [
    {
     "name": "stdout",
     "output_type": "stream",
     "text": [
      "detA = 0\n",
      "\n",
      "detB = 234524.00000000006\n",
      "-0.06\t-0.04\t0.04\t0.09\t-0.13\t0.18\t\n",
      "-0.1\t-0.0\t0.14\t0.1\t-0.0\t-0.16\t\n",
      "-0.35\t0.21\t0.11\t0.08\t-0.04\t0.03\t\n",
      "0.01\t0.04\t0.06\t-0.0\t-0.04\t-0.05\t\n",
      "0.0\t0.03\t-0.11\t0.04\t-0.03\t0.11\t\n",
      "0.17\t-0.12\t-0.03\t-0.11\t0.14\t-0.07\t\n"
     ]
    }
   ],
   "source": [
    "def eighth_task():\n",
    "    #7 задание\n",
    "    matrix_A = third_task()\n",
    "    matrix_B = fourth_task()\n",
    "    matrix_A = np.delete(matrix_A, 2, axis=1)\n",
    "    for i in range(3):\n",
    "        matrix_B = np.append(matrix_B, np.random.randint(10, 20, (6, 1)), axis=1)\n",
    "######################################################################################\n",
    "    determinant_A = np.linalg.det(matrix_A)\n",
    "    determinant_B = np.linalg.det(matrix_B)\n",
    "    if determinant_A == 0:\n",
    "        print(\"detA = 0\")\n",
    "    else:\n",
    "        print(f\"detA = {determinant_A}\")\n",
    "        showMatrix(np.linalg.inv(matrix_A))\n",
    "    print()\n",
    "    if determinant_B == 0:\n",
    "        print(\"detB = 0\")\n",
    "    else:\n",
    "        print(f\"detB = {determinant_B}\")\n",
    "        showMatrix(np.linalg.inv(matrix_B))\n",
    "eighth_task()"
   ]
  },
  {
   "cell_type": "markdown",
   "id": "c908c773-ef0d-45ea-af00-15161a924292",
   "metadata": {},
   "source": [
    "9. Возведите матрицу A в 6 степень, а матрицу B – в 14."
   ]
  },
  {
   "cell_type": "code",
   "execution_count": 23,
   "id": "af06708c-edaf-405d-81e2-7cbf49c61ce9",
   "metadata": {},
   "outputs": [
    {
     "name": "stdout",
     "output_type": "stream",
     "text": [
      "1.12924e+15\t1.87621e+15\t3.37016e+15\t4.11713e+15\t4.86410e+15\t\n",
      "1.25642e+15\t2.08751e+15\t3.74970e+15\t4.58080e+15\t5.41190e+15\t\n",
      "1.32000e+15\t2.19316e+15\t3.93948e+15\t4.81264e+15\t5.68579e+15\t\n",
      "1.38359e+15\t2.29881e+15\t4.12925e+15\t5.04447e+15\t5.95969e+15\t\n",
      "1.44718e+15\t2.40446e+15\t4.31903e+15\t5.27631e+15\t6.23359e+15\t\n",
      "\n",
      "-1.25262e+09\t1.60886e+09\t1.90637e+09\t1.54975e+09\t-2.14498e+09\t1.39704e+09\t\n",
      "-1.41504e+09\t1.52365e+09\t1.80498e+09\t1.23830e+09\t1.80679e+09\t1.09358e+09\t\n",
      "-6.73625e+08\t1.91563e+09\t-2.02545e+09\t-1.63241e+09\t-9.17678e+08\t-1.81432e+09\t\n",
      "-8.48462e+08\t1.82305e+09\t-2.13511e+09\t-1.96833e+09\t-1.28817e+09\t-2.14147e+09\t\n",
      "-5.20590e+08\t1.99623e+09\t-1.92975e+09\t-1.33866e+09\t-5.93875e+08\t-1.52819e+09\t\n",
      "-1.24345e+09\t1.61378e+09\t1.91217e+09\t1.56743e+09\t-2.12545e+09\t1.41424e+09\t\n"
     ]
    }
   ],
   "source": [
    "def ninth_task():\n",
    "    matrix_A = third_task()\n",
    "    matrix_B = fourth_task()\n",
    "    matrix_A = np.delete(matrix_A, 2, axis=1)\n",
    "    for i in range(3):\n",
    "        matrix_B = np.append(matrix_B, np.random.randint(10, 20, (6, 1)), axis=1)\n",
    "    new_A = np.linalg.matrix_power(matrix_A, 6).astype(float)\n",
    "    showMatrixBig(new_A)\n",
    "    print()\n",
    "    new_B = np.linalg.matrix_power(matrix_B, 6)\n",
    "    showMatrixBig(new_B)\n",
    "ninth_task()"
   ]
  },
  {
   "cell_type": "markdown",
   "id": "f3c71336-5b8b-4b1d-a253-27c81192b651",
   "metadata": {},
   "source": [
    "10.Решите систему линейных уравнений для своего варианта. Вариантов\n",
    "меньше, чем студентов. Ваш вариант – это остаток от деления вашего\n",
    "номера в группе на количество вариантов."
   ]
  },
  {
   "attachments": {
    "98505137-fde4-4604-a36d-ed144413bf62.png": {
     "image/png": "[encoded data removed]"
    }
   },
   "cell_type": "markdown",
   "id": "6b812640-dfd0-476f-9895-e7514be24af1",
   "metadata": {},
   "source": [
    "![image.png](attachment:98505137-fde4-4604-a36d-ed144413bf62.png)"
   ]
  },
  {
   "cell_type": "code",
   "execution_count": 24,
   "id": "ab7f09fe-b6da-4e40-8784-ea77264cbf51",
   "metadata": {},
   "outputs": [
    {
     "name": "stdout",
     "output_type": "stream",
     "text": [
      "9.51426e-01\t-1.02616e+00\t1.14683e+00\t2.32543e+00\t\n"
     ]
    }
   ],
   "source": [
    "def tenth_task():\n",
    "    system_left=np.array([[2.7,4.,-3.,3.],\n",
    "                          [2.,-16.,-9.,0.],\n",
    "                          [8.,-5.,-3.,-4.],\n",
    "                          [2.,0.,-1.7,-1.7]])\n",
    "    system_right=np.array([2.,8.,0.,-4.])\n",
    "    solve = np.linalg.solve(system_left, system_right)\n",
    "    return solve\n",
    "showListBig(tenth_task())"
   ]
  }
 ],
 "metadata": {
  "kernelspec": {
   "display_name": "Python 3 (ipykernel)",
   "language": "python",
   "name": "python3"
  },
  "language_info": {
   "codemirror_mode": {
    "name": "ipython",
    "version": 3
   },
   "file_extension": ".py",
   "mimetype": "text/x-python",
   "name": "python",
   "nbconvert_exporter": "python",
   "pygments_lexer": "ipython3",
   "version": "3.11.6"
  }
 },
 "nbformat": 4,
 "nbformat_minor": 5
}
